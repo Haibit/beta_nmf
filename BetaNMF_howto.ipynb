{
 "cells": [
  {
   "cell_type": "markdown",
   "metadata": {},
   "source": [
    "# Beta-NMF for GPGPU\n",
    "In this example the Beta-NMF is used to train dictionnary on a dataset X and project some test data Y on the dictionnary trained on X.\n",
    "\n",
    "### Links\n",
    "Source code is available at https://github.com/rserizel/beta_nmf\n",
    "\n",
    "Dcoumentation is available at http://rserizel.github.io/beta_nmf/"
   ]
  },
  {
   "cell_type": "markdown",
   "metadata": {},
   "source": [
    "## Import packages\n",
    "If you plan on using GPGPU make sure you set the Theano flags correctly (see [Theano documentation]).\n",
    "\n",
    "[Theano documentation]: http://deeplearning.net/software/theano/ "
   ]
  },
  {
   "cell_type": "code",
   "execution_count": 1,
   "metadata": {
    "collapsed": false
   },
   "outputs": [
    {
     "name": "stderr",
     "output_type": "stream",
     "text": [
      "WARNING (theano.configdefaults): g++ not detected ! Theano will be unable to execute optimized C-implementations (for both CPU and GPU) and will default to Python implementations. Performance will be severely degraded. To remove this warning, set Theano flags cxx to an empty string.\n"
     ]
    }
   ],
   "source": [
    "from beta_nmf import BetaNMF\n",
    "from base import nnrandn\n",
    "import numpy as np"
   ]
  },
  {
   "cell_type": "markdown",
   "metadata": {},
   "source": [
    "## Training data\n",
    "Generate random nonnegative data to decompose. At this stage you can decide to load your own data.\n",
    "\n",
    "Note that in order to notice the impact of using a GPGPU you should use much larger matrices. For a more extensive study of the advantage of using GPGPU for NMF please refer to:\n",
    "\n",
    "> R. Serizel, S. Essid, and G. Richard. “Mini-batch stochastic approaches for accelerated multiplicative updates in nonnegative matrix factorisation with beta-divergence”. Accepted for publication In *Proc. of MLSP*, p. 5, 2016."
   ]
  },
  {
   "cell_type": "code",
   "execution_count": 2,
   "metadata": {
    "collapsed": false
   },
   "outputs": [],
   "source": [
    "X = nnrandn((500, 200))"
   ]
  },
  {
   "cell_type": "markdown",
   "metadata": {},
   "source": [
    "## Create the BetaNMF\n",
    "Create a BetaNMF object. Theano variable are initialised based on the shape of the data X."
   ]
  },
  {
   "cell_type": "code",
   "execution_count": 3,
   "metadata": {
    "collapsed": false
   },
   "outputs": [
    {
     "name": "stdout",
     "output_type": "stream",
     "text": [
      "Standard rules for beta-divergence\n"
     ]
    }
   ],
   "source": [
    "nmf = BetaNMF(X.shape, n_iter=10, verbose=1)"
   ]
  },
  {
   "cell_type": "markdown",
   "metadata": {},
   "source": [
    "## Train the model\n",
    "Decompose the data X into two nonnegative matrices W and H. Perform 10 iterations and compute the score for each iteration."
   ]
  },
  {
   "cell_type": "code",
   "execution_count": 4,
   "metadata": {
    "collapsed": false
   },
   "outputs": [
    {
     "name": "stdout",
     "output_type": "stream",
     "text": [
      "Fitting NMF model with 10 iterations....\n",
      "Iteration 0 / 10, duration=1528.0ms, cost=49968972.111088\n",
      "Iteration 1 / 10, duration=2948.0ms, cost=18149.217197\n",
      "Iteration 2 / 10, duration=1369.0ms, cost=18011.479965\n",
      "Iteration 3 / 10, duration=1383.0ms, cost=17880.667094\n",
      "Iteration 4 / 10, duration=1041.0ms, cost=17753.513206\n",
      "Iteration 5 / 10, duration=1064.0ms, cost=17627.897728\n",
      "Iteration 6 / 10, duration=1047.0ms, cost=17502.101439\n",
      "Iteration 7 / 10, duration=1377.0ms, cost=17374.730547\n",
      "Iteration 8 / 10, duration=1148.0ms, cost=17244.677878\n",
      "Iteration 9 / 10, duration=1181.0ms, cost=17111.110360\n",
      "Iteration 10 / 10, duration=1243.0ms, cost=16973.474554\n",
      "Done.\n"
     ]
    }
   ],
   "source": [
    "nmf.fit(X)"
   ]
  },
  {
   "cell_type": "markdown",
   "metadata": {},
   "source": [
    "## Use the model\n",
    "Generate test data Y and project Y on the dictionnary W learnt on X."
   ]
  },
  {
   "cell_type": "code",
   "execution_count": 5,
   "metadata": {
    "collapsed": false
   },
   "outputs": [
    {
     "name": "stdout",
     "output_type": "stream",
     "text": [
      "cold start\n",
      "Fitting NMF model with 10 iterations....\n",
      "Iteration 0 / 10, duration=401.0ms, cost=4569654.742922\n",
      "Iteration 1 / 10, duration=546.0ms, cost=1792.047478\n",
      "Iteration 2 / 10, duration=322.0ms, cost=1782.219753\n",
      "Iteration 3 / 10, duration=181.0ms, cost=1772.705624\n",
      "Iteration 4 / 10, duration=316.0ms, cost=1763.495534\n",
      "Iteration 5 / 10, duration=157.0ms, cost=1754.582875\n",
      "Iteration 6 / 10, duration=130.0ms, cost=1745.963292\n",
      "Iteration 7 / 10, duration=171.0ms, cost=1737.634058\n",
      "Iteration 8 / 10, duration=111.0ms, cost=1729.593513\n",
      "Iteration 9 / 10, duration=107.0ms, cost=1721.840562\n",
      "Iteration 10 / 10, duration=128.0ms, cost=1714.374231\n",
      "Done.\n"
     ]
    }
   ],
   "source": [
    "Y = nnrandn((50, 200))\n",
    "H = nmf.transform(Y)"
   ]
  },
  {
   "cell_type": "markdown",
   "metadata": {},
   "source": [
    "## Use custom init values\n",
    "You can set W and H to custom values with Theano function `set_value()`. Then you should you warm start mode to avoid aoverwritting these values().\n",
    "\n",
    "For example, below we set H to a custom value and start projection on W with this value as intial factor H."
   ]
  },
  {
   "cell_type": "code",
   "execution_count": 6,
   "metadata": {
    "collapsed": false
   },
   "outputs": [
    {
     "name": "stdout",
     "output_type": "stream",
     "text": [
      "Fitting NMF model with 10 iterations....\n",
      "Iteration 0 / 10, duration=160.0ms, cost=7616605.075358\n",
      "Iteration 1 / 10, duration=449.0ms, cost=1780.903137\n",
      "Iteration 2 / 10, duration=122.0ms, cost=1771.258638\n",
      "Iteration 3 / 10, duration=111.0ms, cost=1761.833892\n",
      "Iteration 4 / 10, duration=126.0ms, cost=1752.629413\n",
      "Iteration 5 / 10, duration=256.0ms, cost=1743.647682\n",
      "Iteration 6 / 10, duration=139.0ms, cost=1734.892860\n",
      "Iteration 7 / 10, duration=145.0ms, cost=1726.370469\n",
      "Iteration 8 / 10, duration=147.0ms, cost=1718.087048\n",
      "Iteration 9 / 10, duration=129.0ms, cost=1710.049780\n",
      "Iteration 10 / 10, duration=129.0ms, cost=1702.266108\n",
      "Done.\n"
     ]
    }
   ],
   "source": [
    "nmf.h.set_value(np.ones(H.shape))\n",
    "H = nmf.transform(Y, warm_start=True)"
   ]
  },
  {
   "cell_type": "markdown",
   "metadata": {},
   "source": [
    "## Note on the factors shape\n",
    "In cold start mode the factors are initialised randomly to the correct shape. When using warm start, you should make sure that the shape of the factors is consistent with the data shape. See examples below.\n",
    "### This will work\n",
    "Resume projection of Y at iteration 10: data shapes are consistent.\n",
    "\n",
    "Note also that the initial cost is equal to the final cost in the previous cell which is the expected behaviour here."
   ]
  },
  {
   "cell_type": "code",
   "execution_count": 7,
   "metadata": {
    "collapsed": false
   },
   "outputs": [
    {
     "name": "stdout",
     "output_type": "stream",
     "text": [
      "Fitting NMF model with 10 iterations....\n",
      "Iteration 0 / 10, duration=119.0ms, cost=1702.266108\n",
      "Iteration 1 / 10, duration=249.0ms, cost=1694.743338\n",
      "Iteration 2 / 10, duration=152.0ms, cost=1687.488254\n",
      "Iteration 3 / 10, duration=133.0ms, cost=1680.506756\n",
      "Iteration 4 / 10, duration=117.0ms, cost=1673.803544\n",
      "Iteration 5 / 10, duration=108.0ms, cost=1667.381863\n",
      "Iteration 6 / 10, duration=146.0ms, cost=1661.243316\n",
      "Iteration 7 / 10, duration=154.0ms, cost=1655.387759\n",
      "Iteration 8 / 10, duration=123.0ms, cost=1649.813275\n",
      "Iteration 9 / 10, duration=134.0ms, cost=1644.516217\n",
      "Iteration 10 / 10, duration=141.0ms, cost=1639.491323\n",
      "Done.\n"
     ]
    }
   ],
   "source": [
    "H = nmf.transform(Y, warm_start=True)"
   ]
  },
  {
   "cell_type": "markdown",
   "metadata": {},
   "source": [
    "### This will not work\n",
    "Project X starting from a projection of Y: data shapes are not consistent X.shape = (5000,200) and H.shape = (500, 50)"
   ]
  },
  {
   "cell_type": "code",
   "execution_count": 8,
   "metadata": {
    "collapsed": false
   },
   "outputs": [
    {
     "name": "stdout",
     "output_type": "stream",
     "text": [
      "Inconsistent shape for H, expected (500L, 50L), found (50L, 50L)\n"
     ]
    },
    {
     "ename": "SystemExit",
     "evalue": "",
     "output_type": "error",
     "traceback": [
      "An exception has occurred, use %tb to see the full traceback.\n",
      "\u001b[1;31mSystemExit\u001b[0m\n"
     ]
    },
    {
     "name": "stderr",
     "output_type": "stream",
     "text": [
      "To exit: use 'exit', 'quit', or Ctrl-D.\n"
     ]
    }
   ],
   "source": [
    "H = nmf.transform(X, warm_start=True)"
   ]
  }
 ],
 "metadata": {
  "kernelspec": {
   "display_name": "Python 2",
   "language": "python",
   "name": "python2"
  },
  "language_info": {
   "codemirror_mode": {
    "name": "ipython",
    "version": 2
   },
   "file_extension": ".py",
   "mimetype": "text/x-python",
   "name": "python",
   "nbconvert_exporter": "python",
   "pygments_lexer": "ipython2",
   "version": "2.7.11"
  }
 },
 "nbformat": 4,
 "nbformat_minor": 0
}
